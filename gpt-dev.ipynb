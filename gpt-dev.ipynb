{
 "cells": [
  {
   "cell_type": "code",
   "execution_count": 2,
   "id": "d1373292",
   "metadata": {},
   "outputs": [
    {
     "name": "stderr",
     "output_type": "stream",
     "text": [
      "/Users/abdulvajid/AI/PROJECTS/GPT-2-From-Scratch/.venv/lib/python3.12/site-packages/torch/_subclasses/functional_tensor.py:279: UserWarning: Failed to initialize NumPy: No module named 'numpy' (Triggered internally at /Users/runner/work/pytorch/pytorch/pytorch/torch/csrc/utils/tensor_numpy.cpp:81.)\n",
      "  cpu = _conversion_method_template(device=torch.device(\"cpu\"))\n"
     ]
    }
   ],
   "source": [
    "import torch"
   ]
  },
  {
   "cell_type": "code",
   "execution_count": 62,
   "id": "295309e0",
   "metadata": {},
   "outputs": [],
   "source": [
    "class LM(torch.nn.Module):\n",
    "    def __init__(self):\n",
    "        super().__init__()\n",
    "        \n",
    "        self.embedding = torch.nn.Embedding(51, 51)\n",
    "        \n",
    "    def forward(self, x, target):\n",
    "        output_embedding = self.embedding(x) # (batch_size, tokens) -> (batch_size, tokens, hidden_dim)\n",
    "        \n",
    "        B, T, D = output_embedding.shape\n",
    "        output_embedding = output_embedding.view(B*T, D)\n",
    "        target = target.view(B*T)\n",
    "        \n",
    "        loss = torch.nn.functional.cross_entropy(output_embedding, target)\n",
    "        return output_embedding, loss\n",
    "        "
   ]
  },
  {
   "cell_type": "code",
   "execution_count": 63,
   "id": "f501c3a9",
   "metadata": {},
   "outputs": [],
   "source": [
    "model = LM()"
   ]
  },
  {
   "cell_type": "code",
   "execution_count": 64,
   "id": "fa911032",
   "metadata": {},
   "outputs": [],
   "source": [
    "torch.manual_seed(0)\n",
    "x = torch.randint(0, 50, (3, 5))\n",
    "target = torch.randint(0, 50, (3, 5))\n",
    "\n",
    "out = model(x, target)"
   ]
  },
  {
   "cell_type": "code",
   "execution_count": 66,
   "id": "ca6445eb",
   "metadata": {},
   "outputs": [
    {
     "data": {
      "text/plain": [
       "tensor(4.1609, grad_fn=<NllLossBackward0>)"
      ]
     },
     "execution_count": 66,
     "metadata": {},
     "output_type": "execute_result"
    }
   ],
   "source": [
    "out[-1]"
   ]
  },
  {
   "cell_type": "code",
   "execution_count": null,
   "id": "8601993c",
   "metadata": {},
   "outputs": [],
   "source": []
  }
 ],
 "metadata": {
  "kernelspec": {
   "display_name": "gpt-2-from-scratch (3.12.11)",
   "language": "python",
   "name": "python3"
  },
  "language_info": {
   "codemirror_mode": {
    "name": "ipython",
    "version": 3
   },
   "file_extension": ".py",
   "mimetype": "text/x-python",
   "name": "python",
   "nbconvert_exporter": "python",
   "pygments_lexer": "ipython3",
   "version": "3.12.11"
  }
 },
 "nbformat": 4,
 "nbformat_minor": 5
}
